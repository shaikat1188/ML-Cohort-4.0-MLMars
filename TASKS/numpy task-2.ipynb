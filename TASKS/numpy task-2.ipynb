{
 "cells": [
  {
   "cell_type": "code",
   "execution_count": 1,
   "id": "e1e1de4d-bd66-442e-8598-3183c16d2f69",
   "metadata": {},
   "outputs": [],
   "source": [
    "import numpy as np"
   ]
  },
  {
   "cell_type": "code",
   "execution_count": 3,
   "id": "83831eee-2198-479d-af76-e69730a0af48",
   "metadata": {},
   "outputs": [
    {
     "name": "stdout",
     "output_type": "stream",
     "text": [
      "p=  [ 0  1  2  3  4  5  6  7  8  9 10 11 12 13 14 15 16 17]\n",
      "q=  [20 21 22 23 24 25 26 27 28 29 30 31 32 33 34 35 36 37]\n",
      "sum=  [20 22 24 26 28 30 32 34 36 38 40 42 44 46 48 50 52 54]\n",
      "[[20 22 24]\n",
      " [26 28 30]\n",
      " [32 34 36]\n",
      " [38 40 42]\n",
      " [44 46 48]\n",
      " [50 52 54]]\n"
     ]
    }
   ],
   "source": [
    "#task \n",
    "\n",
    "p=np.arange(0,18)\n",
    "q=np.arange(20,38)\n",
    "print('p= ',p)\n",
    "print('q= ',q)\n",
    "sum=p+q\n",
    "print('sum= ',sum)\n",
    "sum=sum.reshape(6,3)\n",
    "print(sum)"
   ]
  },
  {
   "cell_type": "code",
   "execution_count": null,
   "id": "0d8745cf-9e2d-433f-a410-d26e1481a04b",
   "metadata": {},
   "outputs": [],
   "source": []
  }
 ],
 "metadata": {
  "kernelspec": {
   "display_name": "Python 3 (ipykernel)",
   "language": "python",
   "name": "python3"
  },
  "language_info": {
   "codemirror_mode": {
    "name": "ipython",
    "version": 3
   },
   "file_extension": ".py",
   "mimetype": "text/x-python",
   "name": "python",
   "nbconvert_exporter": "python",
   "pygments_lexer": "ipython3",
   "version": "3.13.4"
  }
 },
 "nbformat": 4,
 "nbformat_minor": 5
}
